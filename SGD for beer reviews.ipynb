{
 "cells": [
  {
   "cell_type": "markdown",
   "metadata": {},
   "source": [
    "## CMSC 25025\n",
    "\n",
    "## Homework 3\n",
    "\n",
    "### Ruben Abbou\n",
    "\n",
    "### Problem 6: Stochastic gradient descent on beer reviews"
   ]
  },
  {
   "cell_type": "code",
   "execution_count": 1,
   "metadata": {},
   "outputs": [],
   "source": [
    "import re, json, numpy as np, scipy as sp, sklearn, time\n",
    "import matplotlib.pyplot as plt, random\n",
    "from scipy.sparse import csr_matrix\n",
    "from numpy.linalg import norm\n",
    "from sklearn.svm import LinearSVC\n",
    "from sklearn.linear_model import LogisticRegression\n",
    "from math import exp, log"
   ]
  },
  {
   "cell_type": "code",
   "execution_count": 2,
   "metadata": {},
   "outputs": [],
   "source": [
    "with open('/project2/cmsc25025/beer_review/labeled.json', 'r') as f:\n",
    "    brv = json.loads(f.read())"
   ]
  },
  {
   "cell_type": "markdown",
   "metadata": {},
   "source": [
    "## Part 1"
   ]
  },
  {
   "cell_type": "code",
   "execution_count": 3,
   "metadata": {},
   "outputs": [],
   "source": [
    "overall_ratings = [d['overall'] for d in brv]"
   ]
  },
  {
   "cell_type": "code",
   "execution_count": 4,
   "metadata": {},
   "outputs": [
    {
     "name": "stdout",
     "output_type": "stream",
     "text": [
      "Mean = 13.198880\n",
      "Median = 14.000000\n",
      "Standard Deviation = 3.352351\n"
     ]
    }
   ],
   "source": [
    "print(\"Mean = %f\" % np.mean(overall_ratings))\n",
    "print(\"Median = %f\" % np.median(overall_ratings))\n",
    "print(\"Standard Deviation = %f\" % np.std(overall_ratings))"
   ]
  },
  {
   "cell_type": "code",
   "execution_count": 5,
   "metadata": {},
   "outputs": [],
   "source": [
    "beer_ratings = {}\n",
    "brewer_ratings = {}\n",
    "for item in brv:\n",
    "    beer = item['beer_name']\n",
    "    brewer = item['brewer']\n",
    "    if beer not in beer_ratings.keys():\n",
    "        beer_ratings[beer] = []\n",
    "    if brewer not in brewer_ratings.keys():\n",
    "        brewer_ratings[brewer] = []\n",
    "    beer_ratings[beer].append(item['overall'])\n",
    "    brewer_ratings[brewer].append(item['overall'])"
   ]
  },
  {
   "cell_type": "code",
   "execution_count": 6,
   "metadata": {},
   "outputs": [],
   "source": [
    "beer_stats = {k: [np.mean(v), np.median(v), np.std(v)] for k, v in beer_ratings.items()}\n",
    "brewer_stats = {k: [np.mean(v), np.median(v), np.std(v)] for k, v in brewer_ratings.items()}"
   ]
  },
  {
   "cell_type": "code",
   "execution_count": 7,
   "metadata": {},
   "outputs": [
    {
     "name": "stdout",
     "output_type": "stream",
     "text": [
      "Example with PBR: \n",
      " Mean: 7.53\n",
      " Median: 7.00\n",
      " Standard Deviation: 4.67\n"
     ]
    }
   ],
   "source": [
    "pbr = beer_stats['Pabst Blue Ribbon']\n",
    "print('Example with PBR: \\n Mean: %.2f\\n' % pbr[0], 'Median: %.2f\\n' % pbr[1],\n",
    "      'Standard Deviation: %.2f' % pbr[2])"
   ]
  },
  {
   "cell_type": "code",
   "execution_count": 8,
   "metadata": {},
   "outputs": [
    {
     "name": "stdout",
     "output_type": "stream",
     "text": [
      "Examplew with Brewer 5731: \n",
      " Mean: 6.85\n",
      " Median: 6.00\n",
      " Standard Deviation: 4.55\n"
     ]
    }
   ],
   "source": [
    "b1 = brewer_stats[5731]\n",
    "print('Examplew with Brewer 5731: \\n Mean: %.2f\\n' % b1[0], 'Median: %.2f\\n' % b1[1],\n",
    "      'Standard Deviation: %.2f' % b1[2])"
   ]
  },
  {
   "cell_type": "code",
   "execution_count": 9,
   "metadata": {},
   "outputs": [
    {
     "name": "stdout",
     "output_type": "stream",
     "text": [
      "Average beer rating sd: 1.33\n",
      " Average brewer rating sd: 2.09\n"
     ]
    }
   ],
   "source": [
    "beer_sd = [v[2] for v in beer_stats.values()]\n",
    "brewer_sd = [v[2] for v in brewer_stats.values()]\n",
    "print('Average beer rating sd: %.2f\\n'%np.mean(beer_sd),\n",
    "      'Average brewer rating sd: %.2f'%np.mean(brewer_sd))"
   ]
  },
  {
   "cell_type": "markdown",
   "metadata": {},
   "source": [
    "The average standard deviations are 1.33 and 2.09, which can be considered pretty high since some beers only have one review and no standard deviation. In general, it looks like people have very different opinions about beers, which makes sense because people's tastes vary a lot."
   ]
  },
  {
   "cell_type": "markdown",
   "metadata": {},
   "source": [
    "## Part 2\n",
    "### (a) *Generating features*"
   ]
  },
  {
   "cell_type": "code",
   "execution_count": 92,
   "metadata": {},
   "outputs": [],
   "source": [
    "with open('/project/cmsc25025/beer_review/vocab_30.json', 'r') as f:\n",
    "    vocab = json.load(f)"
   ]
  },
  {
   "cell_type": "code",
   "execution_count": 237,
   "metadata": {},
   "outputs": [],
   "source": [
    "L = len(brv)\n",
    "training = brv[:int(.7*L)]\n",
    "validation = brv[int(.7*L):int(.85*L)]\n",
    "testing = brv[int(.85*L):]\n",
    "keys = list(vocab.keys())\n",
    "sample = {k:0 for k in keys}"
   ]
  },
  {
   "cell_type": "code",
   "execution_count": 12,
   "metadata": {},
   "outputs": [],
   "source": [
    "def make_sparse_matrix(vocab, reviews, rating_type):\n",
    "    '''\n",
    "    takes reviews as inputs\n",
    "    returns sparse matrix of words, and labels\n",
    "    '''\n",
    "    keys = list(vocab.keys())\n",
    "    labels = []\n",
    "    words = []\n",
    "    for review in reviews:\n",
    "        rev = set(re.split(r'\\W+', review['review'].lower()))\n",
    "        rev = list(set(keys) & rev)\n",
    "        if len(rev):\n",
    "            words.append(rev)\n",
    "            labels.append(int(review[rating_type]>=14))    \n",
    "    indptr = [0]\n",
    "    indices = []\n",
    "    data = []\n",
    "    vocabulary = {}\n",
    "    for key in keys:\n",
    "        index = vocabulary.setdefault(key, len(vocabulary))\n",
    "    for rev in words:\n",
    "        for term in rev:\n",
    "            index = vocabulary.setdefault(term, len(vocabulary))\n",
    "            indices.append(index)\n",
    "            data.append(1)\n",
    "        indptr.append(len(indices))\n",
    "    return labels, csr_matrix((data, indices, indptr))"
   ]
  },
  {
   "cell_type": "code",
   "execution_count": 214,
   "metadata": {},
   "outputs": [],
   "source": [
    "labels, words = make_sparse_matrix(vocab, training[:10000], 'overall')"
   ]
  },
  {
   "cell_type": "code",
   "execution_count": null,
   "metadata": {},
   "outputs": [],
   "source": [
    "print(words.shape)\n",
    "print(len(labels))"
   ]
  },
  {
   "cell_type": "markdown",
   "metadata": {},
   "source": [
    "### (b) *Logistic regression using Newton’s method*"
   ]
  },
  {
   "cell_type": "code",
   "execution_count": 32,
   "metadata": {},
   "outputs": [],
   "source": [
    "labels_val, val = make_sparse_matrix(vocab, validation[:10000], 'overall')\n",
    "labels_test, test = make_sparse_matrix(vocab, testing[:10000], 'overall')"
   ]
  },
  {
   "cell_type": "markdown",
   "metadata": {},
   "source": [
    "### Logistic Regression"
   ]
  },
  {
   "cell_type": "code",
   "execution_count": 33,
   "metadata": {},
   "outputs": [
    {
     "name": "stdout",
     "output_type": "stream",
     "text": [
      "17\n",
      "18\n",
      "19\n",
      "20\n",
      "21\n",
      "22\n"
     ]
    }
   ],
   "source": [
    "lambdas = [10**float(x) for x in list(np.arange(-3, 10, 1))]\n",
    "lambdas = list(np.arange(17, 23, 1))\n",
    "best_lambda = 0\n",
    "best_error = 1e20\n",
    "for lam in lambdas:\n",
    "    print(lam)\n",
    "    lg = LogisticRegression(fit_intercept=True, C=1/lam, penalty='l2',\n",
    "                            multi_class='multinomial', solver='newton-cg',\n",
    "                            max_iter=10000)\n",
    "    model = lg.fit(words, labels)\n",
    "    predict = lg.predict(val)\n",
    "    error = np.mean(predict!=labels_val)\n",
    "    if error < best_error:\n",
    "        best_lambda = lam\n",
    "        best_error = error"
   ]
  },
  {
   "cell_type": "code",
   "execution_count": 42,
   "metadata": {},
   "outputs": [
    {
     "name": "stdout",
     "output_type": "stream",
     "text": [
      "Validation:\n",
      "Best lambda: 20\n",
      "Best error for validation: 24.307%\n"
     ]
    }
   ],
   "source": [
    "print('Validation:')\n",
    "print('Best lambda:', best_lambda)\n",
    "print('Best error for validation: %.3f%%'% (best_error*100))"
   ]
  },
  {
   "cell_type": "code",
   "execution_count": 43,
   "metadata": {},
   "outputs": [
    {
     "name": "stdout",
     "output_type": "stream",
     "text": [
      "Error for testing: 25.829%\n"
     ]
    }
   ],
   "source": [
    "lg = LogisticRegression(fit_intercept=True, C=1/best_lambda, penalty='l2',\n",
    "                        multi_class='multinomial', solver='newton-cg',\n",
    "                        max_iter=10000)\n",
    "model = lg.fit(words, labels)\n",
    "predict = lg.predict(test)\n",
    "error = np.mean(predict!=labels_test)\n",
    "print('Error for testing: %.3f%%'% (error*100))"
   ]
  },
  {
   "cell_type": "markdown",
   "metadata": {},
   "source": [
    "### Hinge"
   ]
  },
  {
   "cell_type": "code",
   "execution_count": 36,
   "metadata": {
    "scrolled": true
   },
   "outputs": [],
   "source": [
    "lambdas = list(np.arange(10, 51, 1))\n",
    "best_lambdah = 0\n",
    "best_errorh = 1e20\n",
    "for lam in lambdas:\n",
    "    modelh = LinearSVC(loss='hinge', penalty='l2',\n",
    "                dual=True, tol=.0001, C = 1/lam).fit(words, labels)\n",
    "    predicth = modelh.predict(val)\n",
    "    error = np.mean(predicth!=labels_val)\n",
    "    if error < best_errorh:\n",
    "        best_lambdah = lam\n",
    "        best_errorh = error"
   ]
  },
  {
   "cell_type": "code",
   "execution_count": 37,
   "metadata": {
    "scrolled": true
   },
   "outputs": [
    {
     "name": "stdout",
     "output_type": "stream",
     "text": [
      "Validation:\n",
      "Best lambda: 35\n",
      "Best error: 24.19%\n"
     ]
    }
   ],
   "source": [
    "print('Validation:')\n",
    "print('Best lambda:', best_lambdah)\n",
    "print('Best error: %.2f%%'% (best_errorh*100))"
   ]
  },
  {
   "cell_type": "code",
   "execution_count": 38,
   "metadata": {},
   "outputs": [
    {
     "name": "stdout",
     "output_type": "stream",
     "text": [
      "Error for testing: 26.41%\n"
     ]
    }
   ],
   "source": [
    "modelh = LinearSVC(loss='hinge', penalty='l2',\n",
    "            dual=True, tol=.0001, C = 1/best_lambdah).fit(words, labels)\n",
    "predicth = modelh.predict(test)\n",
    "errorh = np.mean(predicth!=labels_test)\n",
    "print('Error for testing: %.2f%%'% (errorh*100))"
   ]
  },
  {
   "cell_type": "markdown",
   "metadata": {},
   "source": [
    "### (c) *Stochastic gradient descent*"
   ]
  },
  {
   "cell_type": "markdown",
   "metadata": {},
   "source": [
    "#### i."
   ]
  },
  {
   "cell_type": "code",
   "execution_count": 19,
   "metadata": {},
   "outputs": [],
   "source": [
    "theta = np.zeros((len(vocab)))"
   ]
  },
  {
   "cell_type": "markdown",
   "metadata": {},
   "source": [
    "#### ii."
   ]
  },
  {
   "cell_type": "code",
   "execution_count": 13,
   "metadata": {},
   "outputs": [],
   "source": [
    "def break_into_batches(data, labels, n):\n",
    "    indices = [0] + [random.randint(1, data.shape[0]) for _ in range(n-1)] \\\n",
    "                + [data.shape[0]]\n",
    "    indices = sorted(indices)\n",
    "    batches = []\n",
    "    batches_lab = []\n",
    "    for i in range(len(indices)-1):\n",
    "        m = indices[i]\n",
    "        n = indices[i+1]\n",
    "        batches.append(data[m:n, :])\n",
    "        batches_lab.append(labels[m:n])\n",
    "    return batches, batches_lab"
   ]
  },
  {
   "cell_type": "markdown",
   "metadata": {},
   "source": [
    "We have:\n",
    "$$ L(\\theta, \\lambda) = \\frac{1}{2} \\log \\left(1+e^{-2 y \\theta^Tx}\\right) + \\lambda \\|\\theta\\| $$\n",
    "$$ -G(y, x, \\theta)=\\frac{x y}{1+e^{2 y \\theta^Tx}} - 2\\lambda\\theta $$\n",
    "Therefore, our update is the following:\n",
    "$$ \\theta \\leftarrow \\theta + \\delta \\left(\\frac{x y}{1+e^{2 y \\theta^Tx}} - 2\\lambda\\theta\\right)  $$"
   ]
  },
  {
   "cell_type": "code",
   "execution_count": 28,
   "metadata": {},
   "outputs": [],
   "source": [
    "def sgd_pass_update(batch, batch_lab, theta, n, lamb, delta):\n",
    "    m, n = batch.shape\n",
    "    for i in range(m):\n",
    "        x = batch[i]\n",
    "        y = batch_lab[i]\n",
    "        yhat = 1 / (1 + exp(-float(theta.dot(x))))\n",
    "        grad = (y - yhat) * yhat * (1 - yhat) * x\n",
    "        theta += delta*(grad - 2*lamb*theta)\n",
    "    return theta"
   ]
  },
  {
   "cell_type": "markdown",
   "metadata": {},
   "source": [
    "One training epoch:"
   ]
  },
  {
   "cell_type": "code",
   "execution_count": 25,
   "metadata": {
    "scrolled": true
   },
   "outputs": [],
   "source": [
    "def simulate_epoch(words, labels, theta, lam, delta, n):\n",
    "    random.seed(48)\n",
    "    batches, batches_lab = break_into_batches(words, labels, n)\n",
    "    for i in range(n):\n",
    "        if len(batches_lab[i]):\n",
    "            theta = sgd_pass_update(batches[i], batches_lab[i], theta, n, lam, delta)\n",
    "    return theta"
   ]
  },
  {
   "cell_type": "markdown",
   "metadata": {},
   "source": [
    "#### iii."
   ]
  },
  {
   "cell_type": "code",
   "execution_count": 29,
   "metadata": {},
   "outputs": [],
   "source": [
    "def SGD(words, labels, theta, lam, delta, n, ite):\n",
    "    for i in range(ite):\n",
    "        theta = simulate_epoch(words, labels, theta, lam, delta, n)\n",
    "    return theta"
   ]
  },
  {
   "cell_type": "markdown",
   "metadata": {},
   "source": [
    "#### Cross-Validation and Testing"
   ]
  },
  {
   "cell_type": "code",
   "execution_count": 238,
   "metadata": {},
   "outputs": [],
   "source": [
    "labels_train, train = make_sparse_matrix(vocab, training[:10000], 'overall')\n",
    "labels_val, val = make_sparse_matrix(vocab, validation[:6000], 'overall')\n",
    "labels_test, test = make_sparse_matrix(vocab, testing[:10000], 'overall')"
   ]
  },
  {
   "cell_type": "code",
   "execution_count": 239,
   "metadata": {
    "scrolled": true
   },
   "outputs": [],
   "source": [
    "number_of_batches = 80\n",
    "lam = 1e-3\n",
    "delta = .01\n",
    "iterations = 10\n",
    "theta = np.zeros((len(vocab)))\n",
    "theta = SGD(train.toarray(), labels_train, theta, lam, delta, number_of_batches, iterations)"
   ]
  },
  {
   "cell_type": "code",
   "execution_count": 240,
   "metadata": {},
   "outputs": [
    {
     "name": "stdout",
     "output_type": "stream",
     "text": [
      "Error rate: 29.51%\n"
     ]
    }
   ],
   "source": [
    "def get_error(theta, y, x):\n",
    "    m = len(y)\n",
    "    X=x\n",
    "    yhats = []\n",
    "    for i in range(m):\n",
    "        x = X[i]\n",
    "        yhats.append(1 / (1 + exp(-float(theta.dot(x)))))\n",
    "    yhat_class = [int(x > 0.5) for x in yhats]\n",
    "    error = []\n",
    "    for i in range(len(yhat_class)):\n",
    "        error.append(yhat_class[i]!=y[i])\n",
    "    return np.mean(error)\n",
    "print('Error rate: %.2f%%' % (get_error(theta, labels_val, val.toarray())*100))"
   ]
  },
  {
   "cell_type": "code",
   "execution_count": 174,
   "metadata": {},
   "outputs": [],
   "source": [
    "number_of_batches = 80\n",
    "lam = 1e-3\n",
    "ite = 10\n",
    "errors = []\n",
    "ran = [.0001, .001, .01, .1]\n",
    "for delta in ran:\n",
    "    thet = SGD(train.toarray()[:1000], labels_train[:1000],\n",
    "               theta, lam, delta, number_of_batches, ite)\n",
    "    errors.append((delta, get_error(theta, labels_test, test)))\n",
    "print(errors)"
   ]
  },
  {
   "cell_type": "markdown",
   "metadata": {},
   "source": [
    "After several trials, it seems like a good regularisation parameter is: $\\lambda = 0.001$.\n",
    "\n",
    "let's see the error vs. iteration plot:"
   ]
  },
  {
   "cell_type": "code",
   "execution_count": 209,
   "metadata": {
    "scrolled": true
   },
   "outputs": [
    {
     "data": {
      "image/png": "[encoded data removed]",
      "text/plain": [
       "<Figure size 432x288 with 1 Axes>"
      ]
     },
     "metadata": {},
     "output_type": "display_data"
    }
   ],
   "source": [
    "number_of_batches = 80\n",
    "lam = 1e-3\n",
    "delta = .01\n",
    "errors = []\n",
    "ran = range(1, 30, 2)\n",
    "for ite in ran:\n",
    "    thet = SGD(train.toarray()[:1000], labels_train[:1000],\n",
    "               theta, lam, delta, number_of_batches, ite)\n",
    "    errors.append(get_error(theta, labels_test, test))\n",
    "plt.plot(ran,errors)\n",
    "plt.show()"
   ]
  },
  {
   "cell_type": "markdown",
   "metadata": {},
   "source": [
    "$$l(\\theta | X, y)=\\sum_{i=1}^{n}\\left[y_{i} x_{i}^{T} \\theta-\\log \\left(1+e^{x_{i}} \\theta\\right)\\right]$$"
   ]
  },
  {
   "cell_type": "code",
   "execution_count": null,
   "metadata": {},
   "outputs": [],
   "source": []
  },
  {
   "cell_type": "markdown",
   "metadata": {},
   "source": [
    "It is a bit slower than logistic but still relatively fast to compute. The error rate is higher for SGD but still remains very close to logistic."
   ]
  },
  {
   "cell_type": "markdown",
   "metadata": {},
   "source": [
    "## Part 3: *Scores versus text*"
   ]
  },
  {
   "cell_type": "code",
   "execution_count": 217,
   "metadata": {},
   "outputs": [],
   "source": [
    "scores = np.array([[rev['appearance'], rev['aroma'], rev['palate'],\n",
    "                 rev['style'], rev['taste']] for rev in brv])\n",
    "labels = 1*np.array([rev['overall']>14 for rev in brv])"
   ]
  },
  {
   "cell_type": "code",
   "execution_count": 242,
   "metadata": {},
   "outputs": [],
   "source": [
    "L = len(brv)\n",
    "train = scores[:int(.7*L)]\n",
    "tr_labels = labels[:int(.7*L)]\n",
    "validation = scores[int(.7*L):int(.85*L)]\n",
    "val_labels = labels[int(.7*L):int(.85*L)]\n",
    "testing = scores[int(.85*L):]\n",
    "test_labels = labels[int(.85*L):]"
   ]
  },
  {
   "cell_type": "code",
   "execution_count": 219,
   "metadata": {},
   "outputs": [],
   "source": [
    "lg = LogisticRegression(fit_intercept=True, C=1/lam, penalty='l2',\n",
    "                        multi_class='multinomial', solver='newton-cg',\n",
    "                        max_iter=10000)\n",
    "model = lg.fit(scores[:100000], labels[:100000])\n",
    "predict = lg.predict(validation[:10000])"
   ]
  },
  {
   "cell_type": "code",
   "execution_count": 227,
   "metadata": {},
   "outputs": [
    {
     "name": "stdout",
     "output_type": "stream",
     "text": [
      "0.1667\n"
     ]
    }
   ],
   "source": [
    "print(np.mean([predict[i]!=(val_labels[:10000])[i] for i in range(len(predict))]))"
   ]
  },
  {
   "cell_type": "code",
   "execution_count": 249,
   "metadata": {},
   "outputs": [],
   "source": [
    "number_of_batches = 80\n",
    "lam = 1e-3\n",
    "delta = .01\n",
    "iterations = 10\n",
    "theta = np.zeros((5))\n",
    "theta = SGD(train[:10000], tr_labels[:10000], theta, lam, delta, number_of_batches, iterations)"
   ]
  },
  {
   "cell_type": "code",
   "execution_count": 250,
   "metadata": {},
   "outputs": [
    {
     "name": "stdout",
     "output_type": "stream",
     "text": [
      "Error rate: 39.15%\n"
     ]
    }
   ],
   "source": [
    "print('Error rate: %.2f%%' % (get_error(theta, test_labels, testing)*100))"
   ]
  },
  {
   "cell_type": "markdown",
   "metadata": {},
   "source": [
    "The scores model predicts better. It is very difficult to obtain a good classification with words, and it makes more sense that people rate beers higher for their characteristics if they give it a high overall rating."
   ]
  }
 ],
 "metadata": {
  "kernelspec": {
   "display_name": "Python 3",
   "language": "python",
   "name": "python3"
  },
  "language_info": {
   "codemirror_mode": {
    "name": "ipython",
    "version": 3
   },
   "file_extension": ".py",
   "mimetype": "text/x-python",
   "name": "python",
   "nbconvert_exporter": "python",
   "pygments_lexer": "ipython3",
   "version": "3.7.3"
  }
 },
 "nbformat": 4,
 "nbformat_minor": 2
}
