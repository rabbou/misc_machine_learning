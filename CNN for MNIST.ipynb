{
 "cells": [
  {
   "cell_type": "markdown",
   "metadata": {},
   "source": [
    "## CMSC 25025\n",
    "## Homework 4\n",
    "## Problem 1\n",
    "## Ruben Abbou"
   ]
  },
  {
   "cell_type": "code",
   "execution_count": 2,
   "metadata": {},
   "outputs": [
    {
     "name": "stderr",
     "output_type": "stream",
     "text": [
      "/software/Anaconda3-5.0.1-el7-x86_64/envs/DL_GPU_cuda_9.0/lib/python3.6/site-packages/h5py/__init__.py:36: FutureWarning: Conversion of the second argument of issubdtype from `float` to `np.floating` is deprecated. In future, it will be treated as `np.float64 == np.dtype(float).type`.\n",
      "  from ._conv import register_converters as _register_converters\n"
     ]
    }
   ],
   "source": [
    "import tensorflow as tf, time, matplotlib.pyplot as plt, numpy as np\n",
    "from tensorflow import keras"
   ]
  },
  {
   "cell_type": "code",
   "execution_count": 3,
   "metadata": {},
   "outputs": [],
   "source": [
    "def one_hot(values,n_values=10):\n",
    "    n_v= np.maximum(n_values,np.max(values) + 1)\n",
    "    oh = np.eye(n_v)[values]\n",
    "    return oh\n",
    "\n",
    "X = np.load('/project2/cmsc25025/mnist/MNIST.npy').reshape(-1,28,28,1).astype(np.float64) / 255.\n",
    "Y = one_hot(np.load('/project2/cmsc25025/mnist/MNIST_labels.npy'))\n",
    "L = 70000\n",
    "train_set = (X[:int(5/7*L)], Y[:int(5/7*L)])\n",
    "val_set = (X[int(5/7*L):int(6/7*L)], Y[int(5/7*L):int(6/7*L)])\n",
    "test_set = (X[int(6/7*L):L], Y[int(6/7*L):L])\n"
   ]
  },
  {
   "cell_type": "markdown",
   "metadata": {},
   "source": [
    "## (a)"
   ]
  },
  {
   "cell_type": "code",
   "execution_count": 51,
   "metadata": {},
   "outputs": [],
   "source": [
    "def fit_model(f):\n",
    "    model = keras.models.Sequential()\n",
    "    model.add(keras.layers.InputLayer((28,28,1)))\n",
    "    for i in range(len(f)): # add layers\n",
    "        model.add(keras.layers.Conv2D(filters=f[i], kernel_size=(5,5),\n",
    "                                      padding='same', activation='relu'))\n",
    "        model.add(keras.layers.MaxPool2D())\n",
    "        model.add(keras.layers.Dropout(rate=0.4))\n",
    "    model.add(keras.layers.Flatten())\n",
    "    model.add(keras.layers.Dense(units=1024, activation='relu'))\n",
    "    model.add(keras.layers.Dense(units=10, activation='softmax'))\n",
    "    model.compile(optimizer=tf.train.AdadeltaOptimizer(0.1),\n",
    "                loss='categorical_crossentropy',\n",
    "                metrics=['accuracy'])\n",
    "    return model"
   ]
  },
  {
   "cell_type": "code",
   "execution_count": 27,
   "metadata": {
    "scrolled": true
   },
   "outputs": [
    {
     "name": "stdout",
     "output_type": "stream",
     "text": [
      "Train on 50000 samples, validate on 10000 samples\n",
      "Epoch 1/20\n",
      "50000/50000 [==============================] - 9s 171us/step - loss: 1.1585 - acc: 0.6742 - val_loss: 0.3649 - val_acc: 0.9015\n",
      "Epoch 2/20\n",
      "50000/50000 [==============================] - 5s 102us/step - loss: 0.3978 - acc: 0.8798 - val_loss: 0.2478 - val_acc: 0.9295\n",
      "Epoch 3/20\n",
      "50000/50000 [==============================] - 5s 103us/step - loss: 0.2961 - acc: 0.9111 - val_loss: 0.1880 - val_acc: 0.9455\n",
      "Epoch 4/20\n",
      "50000/50000 [==============================] - 5s 103us/step - loss: 0.2395 - acc: 0.9303 - val_loss: 0.1546 - val_acc: 0.9542\n",
      "Epoch 5/20\n",
      "50000/50000 [==============================] - 5s 103us/step - loss: 0.2008 - acc: 0.9400 - val_loss: 0.1325 - val_acc: 0.9601\n",
      "Epoch 6/20\n",
      "50000/50000 [==============================] - 5s 103us/step - loss: 0.1771 - acc: 0.9464 - val_loss: 0.1115 - val_acc: 0.9656\n",
      "Epoch 7/20\n",
      "50000/50000 [==============================] - 5s 103us/step - loss: 0.1581 - acc: 0.9530 - val_loss: 0.1042 - val_acc: 0.9674\n",
      "Epoch 8/20\n",
      "50000/50000 [==============================] - 5s 103us/step - loss: 0.1421 - acc: 0.9569 - val_loss: 0.0912 - val_acc: 0.9711\n",
      "Epoch 9/20\n",
      "50000/50000 [==============================] - 5s 103us/step - loss: 0.1317 - acc: 0.9608 - val_loss: 0.0829 - val_acc: 0.9739\n",
      "Epoch 10/20\n",
      "50000/50000 [==============================] - 5s 105us/step - loss: 0.1227 - acc: 0.9622 - val_loss: 0.0777 - val_acc: 0.9742\n",
      "Epoch 11/20\n",
      "50000/50000 [==============================] - 5s 103us/step - loss: 0.1144 - acc: 0.9653 - val_loss: 0.0733 - val_acc: 0.9757\n",
      "Epoch 12/20\n",
      "50000/50000 [==============================] - 5s 105us/step - loss: 0.1078 - acc: 0.9666 - val_loss: 0.0680 - val_acc: 0.9778\n",
      "Epoch 13/20\n",
      "50000/50000 [==============================] - 5s 103us/step - loss: 0.1027 - acc: 0.9682 - val_loss: 0.0613 - val_acc: 0.9799\n",
      "Epoch 14/20\n",
      "50000/50000 [==============================] - 5s 103us/step - loss: 0.1004 - acc: 0.9694 - val_loss: 0.0585 - val_acc: 0.9809\n",
      "Epoch 15/20\n",
      "50000/50000 [==============================] - 5s 103us/step - loss: 0.0933 - acc: 0.9709 - val_loss: 0.0560 - val_acc: 0.9811\n",
      "Epoch 16/20\n",
      "50000/50000 [==============================] - 5s 103us/step - loss: 0.0905 - acc: 0.9716 - val_loss: 0.0527 - val_acc: 0.9830\n",
      "Epoch 17/20\n",
      "50000/50000 [==============================] - 5s 103us/step - loss: 0.0863 - acc: 0.9733 - val_loss: 0.0510 - val_acc: 0.9830\n",
      "Epoch 18/20\n",
      "50000/50000 [==============================] - 5s 103us/step - loss: 0.0844 - acc: 0.9736 - val_loss: 0.0501 - val_acc: 0.9832\n",
      "Epoch 19/20\n",
      "50000/50000 [==============================] - 5s 103us/step - loss: 0.0807 - acc: 0.9752 - val_loss: 0.0481 - val_acc: 0.9843\n",
      "Epoch 20/20\n",
      "50000/50000 [==============================] - 5s 103us/step - loss: 0.0787 - acc: 0.9761 - val_loss: 0.0451 - val_acc: 0.9852\n"
     ]
    }
   ],
   "source": [
    "model = fit_model([32, 64])\n",
    "ep = 20\n",
    "fit = model.fit(x=train_set[0], y=train_set[1],\n",
    "        epochs=ep, batch_size=250,\n",
    "        shuffle=True,validation_data=val_set)\n",
    "# results = model.evaluate(test_set[0], test_set[1])\n",
    "train_errors = 1-np.array(fit.history.get('acc'))\n",
    "val_errors = 1-np.array(fit.history.get('val_acc'))"
   ]
  },
  {
   "cell_type": "code",
   "execution_count": 28,
   "metadata": {},
   "outputs": [
    {
     "data": {
      "image/png": "[encoded data removed]",
      "text/plain": [
       "<Figure size 432x288 with 1 Axes>"
      ]
     },
     "metadata": {},
     "output_type": "display_data"
    }
   ],
   "source": [
    "plt.plot(range(1,ep+1), train_errors, label = 'training error')\n",
    "plt.plot(range(1,ep+1), val_errors, label = 'validation error')\n",
    "plt.xlabel('Epochs')\n",
    "plt.ylabel('Error')\n",
    "plt.legend()\n",
    "plt.show()"
   ]
  },
  {
   "cell_type": "code",
   "execution_count": 6,
   "metadata": {
    "scrolled": true
   },
   "outputs": [],
   "source": [
    "def plot_images(layer, nrows, ncols):\n",
    "    plt.figure(figsize=(ncols, nrows))\n",
    "    for i in range(nrows*ncols):\n",
    "        plt.subplot(nrows, ncols, i+1)\n",
    "        plt.imshow(layer[i][0], cmap='gray')\n",
    "        plt.axis('off')\n",
    "    plt.axis('off')\n",
    "    plt.show()"
   ]
  },
  {
   "cell_type": "code",
   "execution_count": 8,
   "metadata": {},
   "outputs": [
    {
     "data": {
      "image/png": "[encoded data removed]",
      "text/plain": [
       "<Figure size 576x288 with 32 Axes>"
      ]
     },
     "metadata": {},
     "output_type": "display_data"
    }
   ],
   "source": [
    "plot_images(model.layers[0].get_weights()[0].T, 4, 8)"
   ]
  },
  {
   "cell_type": "markdown",
   "metadata": {},
   "source": [
    "## (b)\n",
    "### i. Modify parameter numbers"
   ]
  },
  {
   "cell_type": "code",
   "execution_count": 30,
   "metadata": {
    "scrolled": true
   },
   "outputs": [
    {
     "name": "stdout",
     "output_type": "stream",
     "text": [
      "\n",
      "Layers 16 and 32\n",
      "Train on 10000 samples, validate on 10000 samples\n",
      "Epoch 1/5\n",
      "10000/10000 [==============================] - 4s 417us/step - loss: 2.2175 - acc: 0.2537 - val_loss: 2.1026 - val_acc: 0.6042\n",
      "Epoch 2/5\n",
      "10000/10000 [==============================] - 1s 76us/step - loss: 1.8892 - acc: 0.5346 - val_loss: 1.5312 - val_acc: 0.7138\n",
      "Epoch 3/5\n",
      "10000/10000 [==============================] - 1s 76us/step - loss: 1.2429 - acc: 0.6824 - val_loss: 0.8429 - val_acc: 0.7981\n",
      "Epoch 4/5\n",
      "10000/10000 [==============================] - 1s 76us/step - loss: 0.8332 - acc: 0.7498 - val_loss: 0.5898 - val_acc: 0.8511\n",
      "Epoch 5/5\n",
      "10000/10000 [==============================] - 1s 76us/step - loss: 0.6711 - acc: 0.7928 - val_loss: 0.4850 - val_acc: 0.8702\n",
      "10000/10000 [==============================] - 1s 65us/step\n",
      "\n",
      "Layers 32 and 64\n",
      "Train on 10000 samples, validate on 10000 samples\n",
      "Epoch 1/5\n",
      "10000/10000 [==============================] - 5s 485us/step - loss: 2.1858 - acc: 0.3278 - val_loss: 1.9937 - val_acc: 0.6691\n",
      "Epoch 2/5\n",
      "10000/10000 [==============================] - 1s 123us/step - loss: 1.5951 - acc: 0.6417 - val_loss: 1.0383 - val_acc: 0.7824\n",
      "Epoch 3/5\n",
      "10000/10000 [==============================] - 1s 123us/step - loss: 0.8677 - acc: 0.7568 - val_loss: 0.6047 - val_acc: 0.8319\n",
      "Epoch 4/5\n",
      "10000/10000 [==============================] - 1s 123us/step - loss: 0.6327 - acc: 0.8048 - val_loss: 0.4741 - val_acc: 0.8620\n",
      "Epoch 5/5\n",
      "10000/10000 [==============================] - 1s 123us/step - loss: 0.5278 - acc: 0.8389 - val_loss: 0.3925 - val_acc: 0.8932\n",
      "10000/10000 [==============================] - 1s 76us/step\n",
      "\n",
      "Layers 64 and 128\n",
      "Train on 10000 samples, validate on 10000 samples\n",
      "Epoch 1/5\n",
      "10000/10000 [==============================] - 7s 666us/step - loss: 2.0730 - acc: 0.4430 - val_loss: 1.6278 - val_acc: 0.7092\n",
      "Epoch 2/5\n",
      "10000/10000 [==============================] - 2s 215us/step - loss: 1.1190 - acc: 0.7080 - val_loss: 0.8023 - val_acc: 0.7363\n",
      "Epoch 3/5\n",
      "10000/10000 [==============================] - 2s 215us/step - loss: 0.6802 - acc: 0.7860 - val_loss: 0.4719 - val_acc: 0.8721\n",
      "Epoch 4/5\n",
      "10000/10000 [==============================] - 2s 216us/step - loss: 0.5123 - acc: 0.8407 - val_loss: 0.4046 - val_acc: 0.8795\n",
      "Epoch 5/5\n",
      "10000/10000 [==============================] - 2s 215us/step - loss: 0.4401 - acc: 0.8671 - val_loss: 0.3385 - val_acc: 0.9047\n",
      "10000/10000 [==============================] - 1s 122us/step\n",
      "\n",
      "Layers 128 and 256\n",
      "Train on 10000 samples, validate on 10000 samples\n",
      "Epoch 1/5\n",
      "10000/10000 [==============================] - 10s 998us/step - loss: 1.9737 - acc: 0.4740 - val_loss: 1.2645 - val_acc: 0.7129\n",
      "Epoch 2/5\n",
      "10000/10000 [==============================] - 4s 447us/step - loss: 0.8997 - acc: 0.7339 - val_loss: 0.6325 - val_acc: 0.7919\n",
      "Epoch 3/5\n",
      "10000/10000 [==============================] - 4s 447us/step - loss: 0.5629 - acc: 0.8273 - val_loss: 0.3950 - val_acc: 0.8950\n",
      "Epoch 4/5\n",
      "10000/10000 [==============================] - 4s 447us/step - loss: 0.4131 - acc: 0.8764 - val_loss: 0.3300 - val_acc: 0.9064\n",
      "Epoch 5/5\n",
      "10000/10000 [==============================] - 4s 447us/step - loss: 0.3620 - acc: 0.8938 - val_loss: 0.2942 - val_acc: 0.9146\n",
      "10000/10000 [==============================] - 2s 193us/step\n"
     ]
    }
   ],
   "source": [
    "filters = [(2**i, 2**(i+1)) for i in range(4, 8)]\n",
    "error_per_filter = []\n",
    "\n",
    "for f in filters:\n",
    "    print('\\nLayers %d and' %f[0], '%d'%f[1])\n",
    "    model = fit_model(f)\n",
    "    model.fit(x=train_set[0][:10000], y=train_set[1][:10000],\n",
    "              epochs=5, batch_size=250, shuffle=True,\n",
    "              validation_data=val_set)\n",
    "    error_per_filter.append(1-model.evaluate(test_set[0], test_set[1])[1])"
   ]
  },
  {
   "cell_type": "code",
   "execution_count": 31,
   "metadata": {},
   "outputs": [
    {
     "name": "stdout",
     "output_type": "stream",
     "text": [
      "[0.12070000000000003, 0.10050000000000003, 0.09309999999999996, 0.08509999999999995]\n"
     ]
    }
   ],
   "source": [
    "print(error_per_filter)"
   ]
  },
  {
   "cell_type": "markdown",
   "metadata": {},
   "source": [
    "Therefore, quadrupling the number parameters has a better error rate after 5 epochs.\n",
    "\n",
    "### ii. Modify depth"
   ]
  },
  {
   "cell_type": "code",
   "execution_count": 22,
   "metadata": {
    "scrolled": true
   },
   "outputs": [
    {
     "name": "stdout",
     "output_type": "stream",
     "text": [
      "\n",
      "2 Layers \n",
      "Train on 50000 samples, validate on 10000 samples\n",
      "Epoch 1/20\n",
      "50000/50000 [==============================] - 8s 162us/step - loss: 1.1602 - acc: 0.6696 - val_loss: 0.3757 - val_acc: 0.8975\n",
      "Epoch 2/20\n",
      "50000/50000 [==============================] - 5s 102us/step - loss: 0.3938 - acc: 0.8808 - val_loss: 0.2396 - val_acc: 0.9336\n",
      "Epoch 3/20\n",
      "50000/50000 [==============================] - 5s 105us/step - loss: 0.2848 - acc: 0.9160 - val_loss: 0.1856 - val_acc: 0.9453\n",
      "Epoch 4/20\n",
      "50000/50000 [==============================] - 5s 103us/step - loss: 0.2281 - acc: 0.9325 - val_loss: 0.1504 - val_acc: 0.9539\n",
      "Epoch 5/20\n",
      "50000/50000 [==============================] - 5s 105us/step - loss: 0.1932 - acc: 0.9415 - val_loss: 0.1281 - val_acc: 0.9602\n",
      "Epoch 6/20\n",
      "50000/50000 [==============================] - 5s 103us/step - loss: 0.1685 - acc: 0.9496 - val_loss: 0.1096 - val_acc: 0.9661\n",
      "Epoch 7/20\n",
      "50000/50000 [==============================] - 5s 103us/step - loss: 0.1521 - acc: 0.9542 - val_loss: 0.0976 - val_acc: 0.9693\n",
      "Epoch 8/20\n",
      "50000/50000 [==============================] - 5s 103us/step - loss: 0.1398 - acc: 0.9586 - val_loss: 0.0876 - val_acc: 0.9736\n",
      "Epoch 9/20\n",
      "50000/50000 [==============================] - 5s 103us/step - loss: 0.1273 - acc: 0.9615 - val_loss: 0.0826 - val_acc: 0.9730\n",
      "Epoch 10/20\n",
      "50000/50000 [==============================] - 5s 103us/step - loss: 0.1203 - acc: 0.9632 - val_loss: 0.0746 - val_acc: 0.9765\n",
      "Epoch 11/20\n",
      "50000/50000 [==============================] - 5s 103us/step - loss: 0.1141 - acc: 0.9649 - val_loss: 0.0704 - val_acc: 0.9775\n",
      "Epoch 12/20\n",
      "50000/50000 [==============================] - 5s 103us/step - loss: 0.1054 - acc: 0.9683 - val_loss: 0.0672 - val_acc: 0.9776\n",
      "Epoch 13/20\n",
      "50000/50000 [==============================] - 5s 103us/step - loss: 0.0999 - acc: 0.9697 - val_loss: 0.0625 - val_acc: 0.9787\n",
      "Epoch 14/20\n",
      "50000/50000 [==============================] - 5s 103us/step - loss: 0.0972 - acc: 0.9705 - val_loss: 0.0589 - val_acc: 0.9803\n",
      "Epoch 15/20\n",
      "50000/50000 [==============================] - 5s 103us/step - loss: 0.0945 - acc: 0.9712 - val_loss: 0.0574 - val_acc: 0.9803\n",
      "Epoch 16/20\n",
      "50000/50000 [==============================] - 5s 103us/step - loss: 0.0891 - acc: 0.9724 - val_loss: 0.0564 - val_acc: 0.9804\n",
      "Epoch 17/20\n",
      "50000/50000 [==============================] - 5s 103us/step - loss: 0.0876 - acc: 0.9721 - val_loss: 0.0524 - val_acc: 0.9817\n",
      "Epoch 18/20\n",
      "50000/50000 [==============================] - 5s 103us/step - loss: 0.0826 - acc: 0.9746 - val_loss: 0.0511 - val_acc: 0.9829\n",
      "Epoch 19/20\n",
      "50000/50000 [==============================] - 5s 105us/step - loss: 0.0795 - acc: 0.9749 - val_loss: 0.0474 - val_acc: 0.9833\n",
      "Epoch 20/20\n",
      "50000/50000 [==============================] - 5s 104us/step - loss: 0.0778 - acc: 0.9761 - val_loss: 0.0467 - val_acc: 0.9833\n",
      "10000/10000 [==============================] - 1s 79us/step\n",
      "\n",
      "3 Layers \n",
      "Train on 50000 samples, validate on 10000 samples\n",
      "Epoch 1/20\n",
      "50000/50000 [==============================] - 8s 155us/step - loss: 2.1215 - acc: 0.2532 - val_loss: 1.1557 - val_acc: 0.7125\n",
      "Epoch 2/20\n",
      "50000/50000 [==============================] - 5s 101us/step - loss: 0.9038 - acc: 0.6996 - val_loss: 0.4310 - val_acc: 0.8838\n",
      "Epoch 3/20\n",
      "50000/50000 [==============================] - 5s 102us/step - loss: 0.5535 - acc: 0.8217 - val_loss: 0.2867 - val_acc: 0.9242\n",
      "Epoch 4/20\n",
      "50000/50000 [==============================] - 5s 102us/step - loss: 0.4266 - acc: 0.8667 - val_loss: 0.2197 - val_acc: 0.9393\n",
      "Epoch 5/20\n",
      "50000/50000 [==============================] - 5s 102us/step - loss: 0.3582 - acc: 0.8885 - val_loss: 0.1856 - val_acc: 0.9456\n",
      "Epoch 6/20\n",
      "50000/50000 [==============================] - 5s 102us/step - loss: 0.3218 - acc: 0.9000 - val_loss: 0.1635 - val_acc: 0.9512\n",
      "Epoch 7/20\n",
      "50000/50000 [==============================] - 5s 102us/step - loss: 0.2868 - acc: 0.9103 - val_loss: 0.1480 - val_acc: 0.9556\n",
      "Epoch 8/20\n",
      "50000/50000 [==============================] - 5s 102us/step - loss: 0.2668 - acc: 0.9171 - val_loss: 0.1357 - val_acc: 0.9582\n",
      "Epoch 9/20\n",
      "50000/50000 [==============================] - 5s 102us/step - loss: 0.2494 - acc: 0.9215 - val_loss: 0.1240 - val_acc: 0.9614\n",
      "Epoch 10/20\n",
      "50000/50000 [==============================] - 5s 102us/step - loss: 0.2317 - acc: 0.9288 - val_loss: 0.1162 - val_acc: 0.9637\n",
      "Epoch 11/20\n",
      "50000/50000 [==============================] - 5s 102us/step - loss: 0.2210 - acc: 0.9321 - val_loss: 0.1078 - val_acc: 0.9658\n",
      "Epoch 12/20\n",
      "50000/50000 [==============================] - 5s 102us/step - loss: 0.2108 - acc: 0.9348 - val_loss: 0.1020 - val_acc: 0.9691\n",
      "Epoch 13/20\n",
      "50000/50000 [==============================] - 5s 102us/step - loss: 0.2010 - acc: 0.9384 - val_loss: 0.0965 - val_acc: 0.9708\n",
      "Epoch 14/20\n",
      "50000/50000 [==============================] - 5s 102us/step - loss: 0.1956 - acc: 0.9397 - val_loss: 0.0917 - val_acc: 0.9718\n",
      "Epoch 15/20\n",
      "50000/50000 [==============================] - 5s 104us/step - loss: 0.1830 - acc: 0.9429 - val_loss: 0.0877 - val_acc: 0.9740\n",
      "Epoch 16/20\n",
      "50000/50000 [==============================] - 5s 103us/step - loss: 0.1800 - acc: 0.9437 - val_loss: 0.0836 - val_acc: 0.9744\n",
      "Epoch 17/20\n",
      "50000/50000 [==============================] - 5s 103us/step - loss: 0.1721 - acc: 0.9462 - val_loss: 0.0795 - val_acc: 0.9757\n",
      "Epoch 18/20\n",
      "50000/50000 [==============================] - 5s 103us/step - loss: 0.1650 - acc: 0.9480 - val_loss: 0.0768 - val_acc: 0.9757\n",
      "Epoch 19/20\n",
      "50000/50000 [==============================] - 5s 102us/step - loss: 0.1616 - acc: 0.9508 - val_loss: 0.0738 - val_acc: 0.9775\n",
      "Epoch 20/20\n",
      "50000/50000 [==============================] - 5s 102us/step - loss: 0.1574 - acc: 0.9506 - val_loss: 0.0709 - val_acc: 0.9787\n",
      "10000/10000 [==============================] - 1s 80us/step\n",
      "\n",
      "3 Layers \n",
      "Train on 50000 samples, validate on 10000 samples\n",
      "Epoch 1/20\n",
      "50000/50000 [==============================] - 8s 167us/step - loss: 1.9397 - acc: 0.3377 - val_loss: 0.7475 - val_acc: 0.7928\n",
      "Epoch 2/20\n",
      "50000/50000 [==============================] - 6s 113us/step - loss: 0.6903 - acc: 0.7763 - val_loss: 0.3149 - val_acc: 0.9165\n",
      "Epoch 3/20\n",
      "50000/50000 [==============================] - 6s 113us/step - loss: 0.4189 - acc: 0.8685 - val_loss: 0.2170 - val_acc: 0.9363\n",
      "Epoch 4/20\n",
      "50000/50000 [==============================] - 6s 113us/step - loss: 0.3285 - acc: 0.8977 - val_loss: 0.1700 - val_acc: 0.9512\n",
      "Epoch 5/20\n",
      "50000/50000 [==============================] - 6s 113us/step - loss: 0.2815 - acc: 0.9130 - val_loss: 0.1466 - val_acc: 0.9554\n",
      "Epoch 6/20\n",
      "50000/50000 [==============================] - 6s 113us/step - loss: 0.2519 - acc: 0.9223 - val_loss: 0.1309 - val_acc: 0.9600\n",
      "Epoch 7/20\n",
      "50000/50000 [==============================] - 6s 113us/step - loss: 0.2296 - acc: 0.9297 - val_loss: 0.1183 - val_acc: 0.9624\n",
      "Epoch 8/20\n",
      "50000/50000 [==============================] - 6s 113us/step - loss: 0.2127 - acc: 0.9334 - val_loss: 0.1075 - val_acc: 0.9655\n",
      "Epoch 9/20\n",
      "50000/50000 [==============================] - 6s 113us/step - loss: 0.1955 - acc: 0.9393 - val_loss: 0.1007 - val_acc: 0.9678\n",
      "Epoch 10/20\n",
      "50000/50000 [==============================] - 6s 114us/step - loss: 0.1864 - acc: 0.9414 - val_loss: 0.0935 - val_acc: 0.9711\n",
      "Epoch 11/20\n",
      "50000/50000 [==============================] - 6s 115us/step - loss: 0.1773 - acc: 0.9448 - val_loss: 0.0883 - val_acc: 0.9714\n",
      "Epoch 12/20\n",
      "50000/50000 [==============================] - 6s 118us/step - loss: 0.1682 - acc: 0.9468 - val_loss: 0.0831 - val_acc: 0.9729\n",
      "Epoch 13/20\n",
      "50000/50000 [==============================] - 6s 116us/step - loss: 0.1592 - acc: 0.9504 - val_loss: 0.0779 - val_acc: 0.9750\n",
      "Epoch 14/20\n",
      "50000/50000 [==============================] - 6s 116us/step - loss: 0.1527 - acc: 0.9527 - val_loss: 0.0756 - val_acc: 0.9754\n",
      "Epoch 15/20\n",
      "50000/50000 [==============================] - 6s 116us/step - loss: 0.1456 - acc: 0.9544 - val_loss: 0.0702 - val_acc: 0.9766\n",
      "Epoch 16/20\n",
      "50000/50000 [==============================] - 6s 116us/step - loss: 0.1425 - acc: 0.9550 - val_loss: 0.0681 - val_acc: 0.9772\n",
      "Epoch 17/20\n",
      "50000/50000 [==============================] - 6s 116us/step - loss: 0.1364 - acc: 0.9576 - val_loss: 0.0646 - val_acc: 0.9792\n"
     ]
    },
    {
     "name": "stdout",
     "output_type": "stream",
     "text": [
      "Epoch 18/20\n",
      "50000/50000 [==============================] - 6s 116us/step - loss: 0.1298 - acc: 0.9600 - val_loss: 0.0615 - val_acc: 0.9790\n",
      "Epoch 19/20\n",
      "50000/50000 [==============================] - 6s 116us/step - loss: 0.1286 - acc: 0.9610 - val_loss: 0.0600 - val_acc: 0.9800\n",
      "Epoch 20/20\n",
      "50000/50000 [==============================] - 6s 116us/step - loss: 0.1239 - acc: 0.9607 - val_loss: 0.0585 - val_acc: 0.9809\n",
      "10000/10000 [==============================] - 1s 84us/step\n",
      "\n",
      "4 Layers \n",
      "Train on 50000 samples, validate on 10000 samples\n",
      "Epoch 1/20\n",
      "50000/50000 [==============================] - 8s 167us/step - loss: 2.2958 - acc: 0.1081 - val_loss: 2.2824 - val_acc: 0.1327\n",
      "Epoch 2/20\n",
      "50000/50000 [==============================] - 5s 109us/step - loss: 2.1625 - acc: 0.2062 - val_loss: 1.4276 - val_acc: 0.5967\n",
      "Epoch 3/20\n",
      "50000/50000 [==============================] - 5s 110us/step - loss: 1.2473 - acc: 0.5788 - val_loss: 0.6915 - val_acc: 0.7882\n",
      "Epoch 4/20\n",
      "50000/50000 [==============================] - 6s 111us/step - loss: 0.8563 - acc: 0.7175 - val_loss: 0.4556 - val_acc: 0.8720\n",
      "Epoch 5/20\n",
      "50000/50000 [==============================] - 6s 110us/step - loss: 0.6903 - acc: 0.7770 - val_loss: 0.3589 - val_acc: 0.9018\n",
      "Epoch 6/20\n",
      "50000/50000 [==============================] - 6s 111us/step - loss: 0.6000 - acc: 0.8096 - val_loss: 0.3022 - val_acc: 0.9175\n",
      "Epoch 7/20\n",
      "50000/50000 [==============================] - 6s 110us/step - loss: 0.5438 - acc: 0.8300 - val_loss: 0.2632 - val_acc: 0.9272\n",
      "Epoch 8/20\n",
      "50000/50000 [==============================] - 6s 110us/step - loss: 0.4949 - acc: 0.8457 - val_loss: 0.2389 - val_acc: 0.9318\n",
      "Epoch 9/20\n",
      "50000/50000 [==============================] - 6s 110us/step - loss: 0.4653 - acc: 0.8543 - val_loss: 0.2155 - val_acc: 0.9386\n",
      "Epoch 10/20\n",
      "50000/50000 [==============================] - 5s 110us/step - loss: 0.4389 - acc: 0.8655 - val_loss: 0.1978 - val_acc: 0.9418\n",
      "Epoch 11/20\n",
      "50000/50000 [==============================] - 5s 110us/step - loss: 0.4098 - acc: 0.8734 - val_loss: 0.1849 - val_acc: 0.9462\n",
      "Epoch 12/20\n",
      "50000/50000 [==============================] - 5s 110us/step - loss: 0.3962 - acc: 0.8791 - val_loss: 0.1748 - val_acc: 0.9486\n",
      "Epoch 13/20\n",
      "50000/50000 [==============================] - 6s 110us/step - loss: 0.3733 - acc: 0.8874 - val_loss: 0.1656 - val_acc: 0.9511\n",
      "Epoch 14/20\n",
      "50000/50000 [==============================] - 5s 110us/step - loss: 0.3524 - acc: 0.8926 - val_loss: 0.1508 - val_acc: 0.9534\n",
      "Epoch 15/20\n",
      "50000/50000 [==============================] - 6s 110us/step - loss: 0.3352 - acc: 0.8977 - val_loss: 0.1442 - val_acc: 0.9549\n",
      "Epoch 16/20\n",
      "50000/50000 [==============================] - 5s 110us/step - loss: 0.3257 - acc: 0.8994 - val_loss: 0.1387 - val_acc: 0.9579\n",
      "Epoch 17/20\n",
      "50000/50000 [==============================] - 6s 110us/step - loss: 0.3096 - acc: 0.9064 - val_loss: 0.1315 - val_acc: 0.9591\n",
      "Epoch 18/20\n",
      "50000/50000 [==============================] - 6s 110us/step - loss: 0.3003 - acc: 0.9087 - val_loss: 0.1261 - val_acc: 0.9597\n",
      "Epoch 19/20\n",
      "50000/50000 [==============================] - 6s 112us/step - loss: 0.2905 - acc: 0.9122 - val_loss: 0.1206 - val_acc: 0.9615\n",
      "Epoch 20/20\n",
      "50000/50000 [==============================] - 6s 110us/step - loss: 0.2784 - acc: 0.9159 - val_loss: 0.1158 - val_acc: 0.9621\n",
      "10000/10000 [==============================] - 1s 87us/step\n"
     ]
    }
   ],
   "source": [
    "depths = [[32, 64], [32, 64, 32], [32, 64, 64], [32, 64, 32, 64], [32, 32, 64, 64]]\n",
    "error_per_depth = []\n",
    "\n",
    "for f in depths:\n",
    "    print('\\n%d Layers :'% len(f), f)\n",
    "    model = fit_model(f)\n",
    "    model.fit(x=train_set[0], y=train_set[1],\n",
    "              epochs=20, batch_size=250, shuffle=True,\n",
    "              validation_data=val_set)\n",
    "    error_per_depth.append(1-model.evaluate(test_set[0], test_set[1])[1])"
   ]
  },
  {
   "cell_type": "code",
   "execution_count": 23,
   "metadata": {},
   "outputs": [
    {
     "data": {
      "text/plain": [
       "[0.015900000000000025,\n",
       " 0.022499999999999964,\n",
       " 0.01959999999999995,\n",
       " 0.03520000000000001]"
      ]
     },
     "execution_count": 23,
     "metadata": {},
     "output_type": "execute_result"
    }
   ],
   "source": [
    "error_per_depth"
   ]
  },
  {
   "cell_type": "markdown",
   "metadata": {},
   "source": [
    "The model with 3 layers 32, 64, 64 did better than the others, when testing it on the test set.\n",
    "\n",
    "### iii. final model"
   ]
  },
  {
   "cell_type": "code",
   "execution_count": 33,
   "metadata": {
    "scrolled": true
   },
   "outputs": [
    {
     "name": "stdout",
     "output_type": "stream",
     "text": [
      "Train on 50000 samples, validate on 10000 samples\n",
      "Epoch 1/20\n",
      "50000/50000 [==============================] - 28s 555us/step - loss: 1.2547 - acc: 0.5913 - val_loss: 0.3273 - val_acc: 0.9064\n",
      "Epoch 2/20\n",
      "50000/50000 [==============================] - 23s 460us/step - loss: 0.3146 - acc: 0.9041 - val_loss: 0.1584 - val_acc: 0.9516\n",
      "Epoch 3/20\n",
      "50000/50000 [==============================] - 23s 460us/step - loss: 0.2021 - acc: 0.9384 - val_loss: 0.1130 - val_acc: 0.9625\n",
      "Epoch 4/20\n",
      "50000/50000 [==============================] - 23s 460us/step - loss: 0.1535 - acc: 0.9524 - val_loss: 0.0932 - val_acc: 0.9706\n",
      "Epoch 5/20\n",
      "50000/50000 [==============================] - 23s 462us/step - loss: 0.1313 - acc: 0.9599 - val_loss: 0.0733 - val_acc: 0.9764\n",
      "Epoch 6/20\n",
      "50000/50000 [==============================] - 23s 461us/step - loss: 0.1145 - acc: 0.9637 - val_loss: 0.0651 - val_acc: 0.9785\n",
      "Epoch 7/20\n",
      "50000/50000 [==============================] - 23s 460us/step - loss: 0.1021 - acc: 0.9690 - val_loss: 0.0563 - val_acc: 0.9812\n",
      "Epoch 8/20\n",
      "50000/50000 [==============================] - 23s 461us/step - loss: 0.0929 - acc: 0.9713 - val_loss: 0.0516 - val_acc: 0.9831\n",
      "Epoch 9/20\n",
      "50000/50000 [==============================] - 23s 462us/step - loss: 0.0857 - acc: 0.9730 - val_loss: 0.0480 - val_acc: 0.9834\n",
      "Epoch 10/20\n",
      "50000/50000 [==============================] - 23s 460us/step - loss: 0.0786 - acc: 0.9756 - val_loss: 0.0462 - val_acc: 0.9843\n",
      "Epoch 11/20\n",
      "50000/50000 [==============================] - 23s 461us/step - loss: 0.0738 - acc: 0.9766 - val_loss: 0.0433 - val_acc: 0.9849\n",
      "Epoch 12/20\n",
      "50000/50000 [==============================] - 23s 463us/step - loss: 0.0699 - acc: 0.9780 - val_loss: 0.0395 - val_acc: 0.9871\n",
      "Epoch 13/20\n",
      "50000/50000 [==============================] - 23s 462us/step - loss: 0.0647 - acc: 0.9796 - val_loss: 0.0380 - val_acc: 0.9871\n",
      "Epoch 14/20\n",
      "50000/50000 [==============================] - 23s 461us/step - loss: 0.0626 - acc: 0.9806 - val_loss: 0.0355 - val_acc: 0.9879\n",
      "Epoch 15/20\n",
      "50000/50000 [==============================] - 23s 463us/step - loss: 0.0598 - acc: 0.9807 - val_loss: 0.0345 - val_acc: 0.9883\n",
      "Epoch 16/20\n",
      "50000/50000 [==============================] - 23s 462us/step - loss: 0.0562 - acc: 0.9825 - val_loss: 0.0311 - val_acc: 0.9891\n",
      "Epoch 17/20\n",
      "50000/50000 [==============================] - 23s 462us/step - loss: 0.0549 - acc: 0.9823 - val_loss: 0.0313 - val_acc: 0.9895\n",
      "Epoch 18/20\n",
      "50000/50000 [==============================] - 23s 463us/step - loss: 0.0522 - acc: 0.9836 - val_loss: 0.0298 - val_acc: 0.9898\n",
      "Epoch 19/20\n",
      "50000/50000 [==============================] - 23s 462us/step - loss: 0.0493 - acc: 0.9847 - val_loss: 0.0299 - val_acc: 0.9904\n",
      "Epoch 20/20\n",
      "50000/50000 [==============================] - 23s 460us/step - loss: 0.0474 - acc: 0.9851 - val_loss: 0.0269 - val_acc: 0.9908\n",
      "10000/10000 [==============================] - 3s 280us/step\n"
     ]
    }
   ],
   "source": [
    "model = fit_model([128,256,256])\n",
    "model.fit(x=train_set[0], y=train_set[1],\n",
    "          epochs=20, batch_size=250, shuffle=True,\n",
    "          validation_data=val_set)\n",
    "final_test_error = 1-model.evaluate(test_set[0], test_set[1])[1]"
   ]
  },
  {
   "cell_type": "code",
   "execution_count": 39,
   "metadata": {},
   "outputs": [
    {
     "name": "stdout",
     "output_type": "stream",
     "text": [
      "Error running our best model on the testing set: 1.120%\n"
     ]
    }
   ],
   "source": [
    "print(\"Error running our best model on the testing set: %.3f%%\" % (final_test_error*100))"
   ]
  },
  {
   "cell_type": "markdown",
   "metadata": {},
   "source": [
    "## (c)"
   ]
  },
  {
   "cell_type": "code",
   "execution_count": 4,
   "metadata": {},
   "outputs": [],
   "source": [
    "X_trans= np.load('/project2/cmsc25025/mnist/MNIST_TEST_TRANS.npy').reshape(-1,28,28,1).astype(np.float64) / 255.\n",
    "L = 70000\n",
    "train_sett = (X_trans[:int(5/7*L)], Y[:int(5/7*L)])\n",
    "val_sett = (X_trans[int(5/7*L):int(6/7*L)], Y[int(5/7*L):int(6/7*L)])\n",
    "test_sett = (X_trans[int(6/7*L):L], Y[int(6/7*L):L])"
   ]
  },
  {
   "cell_type": "code",
   "execution_count": 55,
   "metadata": {},
   "outputs": [],
   "source": [
    "def plot_digits(means, nrows, ncols):\n",
    "    plt.figure(figsize=(ncols, nrows))\n",
    "    for i in range(nrows*ncols):\n",
    "        plt.subplot(nrows, ncols, i+1)\n",
    "        plt.imshow(means.T[i].reshape((28,28)), cmap='gray')\n",
    "        plt.axis('off')\n",
    "    plt.axis('off')\n",
    "    plt.show()"
   ]
  },
  {
   "cell_type": "code",
   "execution_count": 58,
   "metadata": {
    "scrolled": false
   },
   "outputs": [
    {
     "data": {
      "image/png": "[encoded data removed]",
      "text/plain": [
       "<Figure size 1080x144 with 30 Axes>"
      ]
     },
     "metadata": {},
     "output_type": "display_data"
    },
    {
     "data": {
      "image/png": "[encoded data removed]",
      "text/plain": [
       "<Figure size 1080x144 with 30 Axes>"
      ]
     },
     "metadata": {},
     "output_type": "display_data"
    }
   ],
   "source": [
    "X_trans_plot= np.load('/project2/cmsc25025/mnist/MNIST_TEST_TRANS.npy')[:30].astype(np.float64) / 255.\n",
    "X_plot= np.load('/project2/cmsc25025/mnist/MNIST.npy')[:30].astype(np.float64) / 255.\n",
    "plot_digits(X_trans_plot.T, 2, 15)\n",
    "plot_digits(X_plot.T,2, 15)"
   ]
  },
  {
   "cell_type": "code",
   "execution_count": 6,
   "metadata": {
    "scrolled": true
   },
   "outputs": [
    {
     "name": "stdout",
     "output_type": "stream",
     "text": [
      "Train on 50000 samples, validate on 10000 samples\n",
      "Epoch 1/10\n",
      "50000/50000 [==============================] - 5s 106us/step - loss: 1.6170 - acc: 0.5337 - val_loss: 2.2977 - val_acc: 0.1507\n",
      "Epoch 2/10\n",
      "50000/50000 [==============================] - 4s 85us/step - loss: 0.6142 - acc: 0.8045 - val_loss: 2.2973 - val_acc: 0.1444\n",
      "Epoch 3/10\n",
      "50000/50000 [==============================] - 4s 86us/step - loss: 0.4286 - acc: 0.8680 - val_loss: 2.2984 - val_acc: 0.1611\n",
      "Epoch 4/10\n",
      "50000/50000 [==============================] - 4s 85us/step - loss: 0.3503 - acc: 0.8930 - val_loss: 2.2994 - val_acc: 0.0920\n",
      "Epoch 5/10\n",
      "50000/50000 [==============================] - 4s 84us/step - loss: 0.2985 - acc: 0.9084 - val_loss: 2.2998 - val_acc: 0.0892\n",
      "Epoch 6/10\n",
      "50000/50000 [==============================] - 4s 85us/step - loss: 0.2610 - acc: 0.9213 - val_loss: 2.3003 - val_acc: 0.0892\n",
      "Epoch 7/10\n",
      "50000/50000 [==============================] - 4s 85us/step - loss: 0.2267 - acc: 0.9311 - val_loss: 2.3003 - val_acc: 0.0892\n",
      "Epoch 8/10\n",
      "50000/50000 [==============================] - 4s 85us/step - loss: 0.2046 - acc: 0.9387 - val_loss: 2.3004 - val_acc: 0.0892\n",
      "Epoch 9/10\n",
      "50000/50000 [==============================] - 4s 85us/step - loss: 0.1858 - acc: 0.9443 - val_loss: 2.3003 - val_acc: 0.0892\n",
      "Epoch 10/10\n",
      "50000/50000 [==============================] - 4s 85us/step - loss: 0.1696 - acc: 0.9491 - val_loss: 2.3005 - val_acc: 0.0892\n",
      "10000/10000 [==============================] - 1s 71us/step\n"
     ]
    }
   ],
   "source": [
    "model = fit_model([32, 64])\n",
    "model.fit(x=train_set[0], y=train_set[1],\n",
    "          epochs=10, batch_size=500, shuffle=True,\n",
    "          validation_data=val_sett)\n",
    "testt_error = 1-model.evaluate(test_sett[0], test_sett[1])[1]"
   ]
  },
  {
   "cell_type": "code",
   "execution_count": 7,
   "metadata": {},
   "outputs": [
    {
     "name": "stdout",
     "output_type": "stream",
     "text": [
      "Error running the original network on transformed data: 90.850%\n"
     ]
    }
   ],
   "source": [
    "print(\"Error running the original network on transformed data: %.3f%%\" % (testt_error*100))"
   ]
  },
  {
   "cell_type": "markdown",
   "metadata": {},
   "source": [
    "Indeed, we obtained a very bad error rate here. Let's change the dropout rate."
   ]
  },
  {
   "cell_type": "code",
   "execution_count": 19,
   "metadata": {
    "scrolled": true
   },
   "outputs": [
    {
     "name": "stdout",
     "output_type": "stream",
     "text": [
      "Train on 50000 samples, validate on 10000 samples\n",
      "Epoch 1/10\n",
      "50000/50000 [==============================] - 6s 111us/step - loss: 0.5692 - acc: 0.8290 - val_loss: 2.2968 - val_acc: 0.1154\n",
      "Epoch 2/10\n",
      "50000/50000 [==============================] - 4s 86us/step - loss: 0.1268 - acc: 0.9616 - val_loss: 2.2948 - val_acc: 0.2402\n",
      "Epoch 3/10\n",
      "50000/50000 [==============================] - 4s 86us/step - loss: 0.0828 - acc: 0.9747 - val_loss: 2.2942 - val_acc: 0.2451\n",
      "Epoch 4/10\n",
      "50000/50000 [==============================] - 4s 86us/step - loss: 0.0635 - acc: 0.9803 - val_loss: 2.2938 - val_acc: 0.1621\n",
      "Epoch 5/10\n",
      "50000/50000 [==============================] - 4s 87us/step - loss: 0.0538 - acc: 0.9827 - val_loss: 2.2948 - val_acc: 0.1687\n",
      "Epoch 6/10\n",
      "50000/50000 [==============================] - 4s 87us/step - loss: 0.0448 - acc: 0.9863 - val_loss: 2.2949 - val_acc: 0.1253\n",
      "Epoch 7/10\n",
      "50000/50000 [==============================] - 4s 86us/step - loss: 0.0387 - acc: 0.9882 - val_loss: 2.2952 - val_acc: 0.1605\n",
      "Epoch 8/10\n",
      "50000/50000 [==============================] - 4s 86us/step - loss: 0.0345 - acc: 0.9891 - val_loss: 2.2951 - val_acc: 0.1416\n",
      "Epoch 9/10\n",
      "50000/50000 [==============================] - 4s 86us/step - loss: 0.0308 - acc: 0.9905 - val_loss: 2.2953 - val_acc: 0.1851\n",
      "Epoch 10/10\n",
      "50000/50000 [==============================] - 4s 86us/step - loss: 0.0267 - acc: 0.9916 - val_loss: 2.2965 - val_acc: 0.1217\n",
      "10000/10000 [==============================] - 1s 74us/step\n"
     ]
    }
   ],
   "source": [
    "model = keras.models.Sequential()\n",
    "model.add(keras.layers.InputLayer((28,28,1)))\n",
    "model.add(keras.layers.Conv2D(filters=32, kernel_size=(5,5),\n",
    "                              padding='same', activation='relu'))\n",
    "model.add(keras.layers.MaxPool2D())\n",
    "model.add(keras.layers.Dropout(rate=0.2))\n",
    "model.add(keras.layers.Conv2D(filters=64, kernel_size=(5,5),\n",
    "                              padding='same', activation='relu'))\n",
    "model.add(keras.layers.MaxPool2D())\n",
    "model.add(keras.layers.Dropout(rate=0.2))\n",
    "model.add(keras.layers.Flatten())\n",
    "model.add(keras.layers.Dense(units=1024, activation='relu'))\n",
    "model.add(keras.layers.Dense(units=10, activation='softmax'))\n",
    "model.compile(optimizer=tf.train.AdadeltaOptimizer(0.1),\n",
    "            loss='categorical_crossentropy',\n",
    "            metrics=['accuracy'])\n",
    "\n",
    "model.fit(x=train_set[0], y=train_set[1],\n",
    "          epochs=10, batch_size=500, shuffle=True,\n",
    "          validation_data=val_sett)\n",
    "testt_error = 1-model.evaluate(test_sett[0], test_sett[1])[1]"
   ]
  },
  {
   "cell_type": "code",
   "execution_count": 20,
   "metadata": {},
   "outputs": [
    {
     "name": "stdout",
     "output_type": "stream",
     "text": [
      "New error: 87.380%\n"
     ]
    }
   ],
   "source": [
    "print(\"New error: %.3f%%\" % (testt_error*100))"
   ]
  },
  {
   "cell_type": "code",
   "execution_count": 77,
   "metadata": {
    "scrolled": true
   },
   "outputs": [
    {
     "name": "stdout",
     "output_type": "stream",
     "text": [
      "Train on 50000 samples, validate on 10000 samples\n",
      "Epoch 1/10\n",
      "50000/50000 [==============================] - 10s 200us/step - loss: 3.8375 - acc: 0.1144 - val_loss: 3.8446 - val_acc: 0.1904\n",
      "Epoch 2/10\n",
      "50000/50000 [==============================] - 4s 86us/step - loss: 3.8296 - acc: 0.1273 - val_loss: 3.8440 - val_acc: 0.1988\n",
      "Epoch 3/10\n",
      "50000/50000 [==============================] - 4s 87us/step - loss: 3.8208 - acc: 0.1548 - val_loss: 3.8435 - val_acc: 0.1704\n",
      "Epoch 4/10\n",
      "50000/50000 [==============================] - 4s 87us/step - loss: 3.8124 - acc: 0.1788 - val_loss: 3.8429 - val_acc: 0.1536\n",
      "Epoch 5/10\n",
      "50000/50000 [==============================] - 4s 87us/step - loss: 3.8035 - acc: 0.2032 - val_loss: 3.8423 - val_acc: 0.1547\n",
      "Epoch 6/10\n",
      "50000/50000 [==============================] - 4s 87us/step - loss: 3.7953 - acc: 0.2249 - val_loss: 3.8417 - val_acc: 0.1622\n",
      "Epoch 7/10\n",
      "50000/50000 [==============================] - 4s 87us/step - loss: 3.7861 - acc: 0.2497 - val_loss: 3.8411 - val_acc: 0.1690\n",
      "Epoch 8/10\n",
      "50000/50000 [==============================] - 4s 87us/step - loss: 3.7772 - acc: 0.2696 - val_loss: 3.8406 - val_acc: 0.1742\n",
      "Epoch 9/10\n",
      "50000/50000 [==============================] - 4s 87us/step - loss: 3.7674 - acc: 0.2891 - val_loss: 3.8400 - val_acc: 0.1771\n",
      "Epoch 10/10\n",
      "50000/50000 [==============================] - 4s 87us/step - loss: 3.7583 - acc: 0.3081 - val_loss: 3.8394 - val_acc: 0.1818\n",
      "10000/10000 [==============================] - 1s 100us/step\n"
     ]
    }
   ],
   "source": [
    "model = keras.models.Sequential()\n",
    "model.add(keras.layers.InputLayer((28,28,1)))\n",
    "model.add(keras.layers.Conv2D(filters=32, kernel_size=(5,5),\n",
    "                              padding='same', activation='relu'))\n",
    "model.add(keras.layers.MaxPool2D())\n",
    "model.add(keras.layers.Dropout(rate=0.2))\n",
    "model.add(keras.layers.Conv2D(filters=64, kernel_size=(5,5),\n",
    "                              padding='same', activation='relu'))\n",
    "model.add(keras.layers.MaxPool2D())\n",
    "model.add(keras.layers.Dropout(rate=0.2))\n",
    "model.add(keras.layers.Flatten())\n",
    "model.add(keras.layers.Dense(units=1024, activation='relu', kernel_regularizer=keras.regularizers.l2(0.001)))\n",
    "model.add(keras.layers.Dense(units=10, activation='softmax'))\n",
    "model.compile(optimizer=tf.train.AdadeltaOptimizer(),\n",
    "            loss='categorical_crossentropy',\n",
    "            metrics=['accuracy'])\n",
    "\n",
    "model.fit(x=train_set[0], y=train_set[1],\n",
    "          epochs=10, batch_size=500, shuffle=True,\n",
    "          validation_data=val_sett)\n",
    "testt_error = 1-model.evaluate(test_sett[0], test_sett[1])[1]"
   ]
  },
  {
   "cell_type": "code",
   "execution_count": 78,
   "metadata": {},
   "outputs": [
    {
     "name": "stdout",
     "output_type": "stream",
     "text": [
      "New error: 82.240%\n"
     ]
    }
   ],
   "source": [
    "print(\"New error: %.3f%%\" % (testt_error*100))"
   ]
  },
  {
   "cell_type": "code",
   "execution_count": 7,
   "metadata": {},
   "outputs": [
    {
     "name": "stdout",
     "output_type": "stream",
     "text": [
      "Train on 50000 samples, validate on 10000 samples\n",
      "Epoch 1/10\n",
      "50000/50000 [==============================] - 6s 116us/step - loss: 4.0728 - acc: 0.1075 - val_loss: 4.0633 - val_acc: 0.1210\n",
      "Epoch 2/10\n",
      "50000/50000 [==============================] - 3s 58us/step - loss: 4.0561 - acc: 0.1352 - val_loss: 4.0627 - val_acc: 0.1756\n",
      "Epoch 3/10\n",
      "50000/50000 [==============================] - 3s 59us/step - loss: 4.0393 - acc: 0.1682 - val_loss: 4.0620 - val_acc: 0.2043\n",
      "Epoch 4/10\n",
      "50000/50000 [==============================] - 3s 60us/step - loss: 4.0220 - acc: 0.2148 - val_loss: 4.0613 - val_acc: 0.2175\n",
      "Epoch 5/10\n",
      "50000/50000 [==============================] - 3s 59us/step - loss: 4.0043 - acc: 0.2698 - val_loss: 4.0606 - val_acc: 0.2232\n",
      "Epoch 6/10\n",
      "50000/50000 [==============================] - 3s 59us/step - loss: 3.9866 - acc: 0.3336 - val_loss: 4.0599 - val_acc: 0.2292\n",
      "Epoch 7/10\n",
      "50000/50000 [==============================] - 3s 60us/step - loss: 3.9684 - acc: 0.3967 - val_loss: 4.0593 - val_acc: 0.2296\n",
      "Epoch 8/10\n",
      "50000/50000 [==============================] - 3s 59us/step - loss: 3.9493 - acc: 0.4574 - val_loss: 4.0586 - val_acc: 0.2286\n",
      "Epoch 9/10\n",
      "50000/50000 [==============================] - 3s 60us/step - loss: 3.9300 - acc: 0.5074 - val_loss: 4.0579 - val_acc: 0.2266\n",
      "Epoch 10/10\n",
      "50000/50000 [==============================] - 3s 60us/step - loss: 3.9103 - acc: 0.5494 - val_loss: 4.0572 - val_acc: 0.2257\n",
      "10000/10000 [==============================] - 1s 96us/step\n"
     ]
    }
   ],
   "source": [
    "model = keras.models.Sequential()\n",
    "model.add(keras.layers.InputLayer((28,28,1)))\n",
    "model.add(keras.layers.Conv2D(filters=32, kernel_size=(5,5),\n",
    "                              padding='same', activation='relu'))\n",
    "model.add(keras.layers.MaxPool2D())\n",
    "model.add(keras.layers.Dropout(rate=0.2))\n",
    "model.add(keras.layers.Flatten())\n",
    "model.add(keras.layers.Dense(units=1024, activation='relu', kernel_regularizer=keras.regularizers.l2(0.001)))\n",
    "model.add(keras.layers.Dense(units=10, activation='softmax'))\n",
    "model.compile(optimizer=tf.train.AdadeltaOptimizer(),\n",
    "            loss='categorical_crossentropy',\n",
    "            metrics=['accuracy'])\n",
    "\n",
    "model.fit(x=train_set[0], y=train_set[1],\n",
    "          epochs=10, batch_size=500, shuffle=True,\n",
    "          validation_data=val_sett)\n",
    "testt_error = 1-model.evaluate(test_sett[0], test_sett[1])[1]"
   ]
  },
  {
   "cell_type": "code",
   "execution_count": 8,
   "metadata": {},
   "outputs": [
    {
     "name": "stdout",
     "output_type": "stream",
     "text": [
      "New error: 77.660%\n"
     ]
    }
   ],
   "source": [
    "print(\"New error: %.3f%%\" % (testt_error*100))"
   ]
  },
  {
   "cell_type": "code",
   "execution_count": 21,
   "metadata": {
    "scrolled": true
   },
   "outputs": [
    {
     "name": "stdout",
     "output_type": "stream",
     "text": [
      "Train on 50000 samples, validate on 10000 samples\n",
      "Epoch 1/10\n",
      "50000/50000 [==============================] - 6s 126us/step - loss: 4.0602 - acc: 0.1125 - val_loss: 4.0623 - val_acc: 0.1383\n",
      "Epoch 2/10\n",
      "50000/50000 [==============================] - 3s 59us/step - loss: 4.0452 - acc: 0.1281 - val_loss: 4.0616 - val_acc: 0.2000\n",
      "Epoch 3/10\n",
      "50000/50000 [==============================] - 3s 60us/step - loss: 4.0294 - acc: 0.1458 - val_loss: 4.0609 - val_acc: 0.2039\n",
      "Epoch 4/10\n",
      "50000/50000 [==============================] - 3s 58us/step - loss: 4.0138 - acc: 0.1689 - val_loss: 4.0603 - val_acc: 0.1985\n",
      "Epoch 5/10\n",
      "50000/50000 [==============================] - 3s 59us/step - loss: 3.9982 - acc: 0.1975 - val_loss: 4.0596 - val_acc: 0.2030\n",
      "Epoch 6/10\n",
      "50000/50000 [==============================] - 3s 60us/step - loss: 3.9830 - acc: 0.2254 - val_loss: 4.0590 - val_acc: 0.2076\n",
      "Epoch 7/10\n",
      "50000/50000 [==============================] - 3s 60us/step - loss: 3.9659 - acc: 0.2587 - val_loss: 4.0583 - val_acc: 0.2107\n",
      "Epoch 8/10\n",
      "50000/50000 [==============================] - 3s 60us/step - loss: 3.9510 - acc: 0.2935 - val_loss: 4.0576 - val_acc: 0.2133\n",
      "Epoch 9/10\n",
      "50000/50000 [==============================] - 3s 60us/step - loss: 3.9345 - acc: 0.3314 - val_loss: 4.0570 - val_acc: 0.2141\n",
      "Epoch 10/10\n",
      "50000/50000 [==============================] - 3s 60us/step - loss: 3.9178 - acc: 0.3704 - val_loss: 4.0563 - val_acc: 0.2165\n",
      "10000/10000 [==============================] - 1s 97us/step\n"
     ]
    }
   ],
   "source": [
    "model = keras.models.Sequential()\n",
    "model.add(keras.layers.InputLayer((28,28,1)))\n",
    "model.add(keras.layers.Conv2D(filters=32, kernel_size=(5,5),\n",
    "                              padding='same', activation='relu'))\n",
    "model.add(keras.layers.MaxPool2D())\n",
    "model.add(keras.layers.Dropout(rate=0.6))\n",
    "model.add(keras.layers.Flatten())\n",
    "model.add(keras.layers.Dense(units=1024, activation='relu', kernel_regularizer=keras.regularizers.l2(0.001)))\n",
    "model.add(keras.layers.Dense(units=10, activation='softmax'))\n",
    "model.compile(optimizer=tf.train.AdadeltaOptimizer(),\n",
    "            loss='categorical_crossentropy',\n",
    "            metrics=['accuracy'])\n",
    "\n",
    "model.fit(x=train_set[0], y=train_set[1],\n",
    "          epochs=10, batch_size=500, shuffle=True,\n",
    "          validation_data=val_sett)\n",
    "testt_error = 1-model.evaluate(test_sett[0], test_sett[1])[1]"
   ]
  },
  {
   "cell_type": "code",
   "execution_count": 22,
   "metadata": {},
   "outputs": [
    {
     "name": "stdout",
     "output_type": "stream",
     "text": [
      "New error: 78.820%\n"
     ]
    }
   ],
   "source": [
    "print(\"New error: %.3f%%\" % (testt_error*100))"
   ]
  },
  {
   "cell_type": "code",
   "execution_count": 30,
   "metadata": {
    "scrolled": true
   },
   "outputs": [
    {
     "name": "stdout",
     "output_type": "stream",
     "text": [
      "Train on 50000 samples, validate on 10000 samples\n",
      "Epoch 1/10\n",
      "50000/50000 [==============================] - 7s 135us/step - loss: 4.0810 - acc: 0.0981 - val_loss: 4.0626 - val_acc: 0.1296\n",
      "Epoch 2/10\n",
      "50000/50000 [==============================] - 3s 60us/step - loss: 4.0653 - acc: 0.1162 - val_loss: 4.0619 - val_acc: 0.1772\n",
      "Epoch 3/10\n",
      "50000/50000 [==============================] - 3s 59us/step - loss: 4.0475 - acc: 0.1406 - val_loss: 4.0612 - val_acc: 0.1973\n",
      "Epoch 4/10\n",
      "50000/50000 [==============================] - 3s 59us/step - loss: 4.0310 - acc: 0.1604 - val_loss: 4.0606 - val_acc: 0.2024\n",
      "Epoch 5/10\n",
      "50000/50000 [==============================] - 3s 59us/step - loss: 4.0142 - acc: 0.1889 - val_loss: 4.0599 - val_acc: 0.2045\n",
      "Epoch 6/10\n",
      "50000/50000 [==============================] - 3s 60us/step - loss: 3.9977 - acc: 0.2195 - val_loss: 4.0592 - val_acc: 0.2031\n",
      "Epoch 7/10\n",
      "50000/50000 [==============================] - 3s 58us/step - loss: 3.9819 - acc: 0.2480 - val_loss: 4.0586 - val_acc: 0.2011\n",
      "Epoch 8/10\n",
      "50000/50000 [==============================] - 3s 59us/step - loss: 3.9651 - acc: 0.2781 - val_loss: 4.0579 - val_acc: 0.2022\n",
      "Epoch 9/10\n",
      "50000/50000 [==============================] - 3s 59us/step - loss: 3.9482 - acc: 0.3033 - val_loss: 4.0572 - val_acc: 0.2029\n",
      "Epoch 10/10\n",
      "50000/50000 [==============================] - 3s 59us/step - loss: 3.9308 - acc: 0.3329 - val_loss: 4.0565 - val_acc: 0.2046\n",
      "10000/10000 [==============================] - 1s 98us/step\n"
     ]
    }
   ],
   "source": [
    "model = keras.models.Sequential()\n",
    "model.add(keras.layers.InputLayer((28,28,1)))\n",
    "model.add(keras.layers.Conv2D(filters=32, kernel_size=(5,5),\n",
    "                              padding='same', activation='relu'))\n",
    "model.add(keras.layers.MaxPool2D())\n",
    "model.add(keras.layers.Dropout(rate=0.6))\n",
    "model.add(keras.layers.Flatten())\n",
    "model.add(keras.layers.Dense(units=1024, activation='relu', kernel_regularizer=keras.regularizers.l2(.001)))\n",
    "model.add(keras.layers.Dense(units=10, activation='softmax'))\n",
    "model.compile(optimizer=tf.train.AdadeltaOptimizer(),\n",
    "            loss='categorical_crossentropy',\n",
    "            metrics=['accuracy'])\n",
    "\n",
    "model.fit(x=train_set[0], y=train_set[1],\n",
    "          epochs=10, batch_size=500, shuffle=True,\n",
    "          validation_data=val_sett)\n",
    "testt_error = 1-model.evaluate(test_sett[0], test_sett[1])[1]"
   ]
  },
  {
   "cell_type": "code",
   "execution_count": 31,
   "metadata": {},
   "outputs": [
    {
     "name": "stdout",
     "output_type": "stream",
     "text": [
      "New error: 79.810%\n"
     ]
    }
   ],
   "source": [
    "print(\"New error: %.3f%%\" % (testt_error*100))"
   ]
  },
  {
   "cell_type": "markdown",
   "metadata": {},
   "source": [
    "To prevent overfitting, I tried many different changes on the network:\n",
    "\n",
    "- increase/decrease the number of layers in the model\n",
    "- change the activation function for the dense layers\n",
    "- Lower/increase the dropout rate\n",
    "- change the optimizer learning rate\n",
    "- add a regularizer\n",
    "\n",
    "I only noticed some small improvements when lowering the dropout rate as well as when I added a regularizer. Additionally, changing the learning rate from the optimizer showed some better results as well. Our model with one layer and a dropout probability of 0.6 obtained the best results and had the least overfitting, although we still remained around a 75% error rate."
   ]
  }
 ],
 "metadata": {
  "kernelspec": {
   "display_name": "Python [conda env:DL_GPU_cuda_9.0]",
   "language": "python",
   "name": "conda-env-DL_GPU_cuda_9.0-py"
  },
  "language_info": {
   "codemirror_mode": {
    "name": "ipython",
    "version": 3
   },
   "file_extension": ".py",
   "mimetype": "text/x-python",
   "name": "python",
   "nbconvert_exporter": "python",
   "pygments_lexer": "ipython3",
   "version": "3.6.5"
  }
 },
 "nbformat": 4,
 "nbformat_minor": 2
}
